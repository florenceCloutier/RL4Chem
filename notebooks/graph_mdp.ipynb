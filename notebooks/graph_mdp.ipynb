{
 "cells": [
  {
   "cell_type": "code",
   "execution_count": 18,
   "id": "4d0dbd82",
   "metadata": {},
   "outputs": [],
   "source": [
    "import numpy as np\n",
    "\n",
    "from rdkit import Chem"
   ]
  },
  {
   "cell_type": "code",
   "execution_count": 28,
   "id": "b96e7f28",
   "metadata": {},
   "outputs": [],
   "source": [
    "class GraphMDP:\n",
    "    '''\n",
    "    To-do:  Add the option to specify a starting molecule.\n",
    "    '''\n",
    "    def __init__(self):\n",
    "        \n",
    "        #atomic building blocks\n",
    "        possible_atoms = ['C', 'N', 'O', 'S', 'P', 'F', 'I', 'Cl', 'Br']\n",
    "        self.atom_type_num = len(possible_atoms)\n",
    "        self.possible_atom_types = np.array(possible_atoms)\n",
    "        self.d = len(self.possible_atom_types)\n",
    "        \n",
    "        #bond types\n",
    "        possible_bonds = [Chem.rdchem.BondType.SINGLE, Chem.rdchem.BondType.DOUBLE, Chem.rdchem.BondType.TRIPLE] \n",
    "        self.possible_bond_types = np.array(possible_bonds, dtype=object)\n",
    "        \n",
    "        #molecule\n",
    "        self.mol = Chem.RWMol()\n",
    "        \n",
    "        #??\n",
    "        self.min_action = 20\n",
    "        self.max_action = 128\n",
    "        self.max_atom = 38 + len(possible_atoms)\n",
    "        \n",
    "        #reward calculation data\n",
    "        self.logp_ratio = 1\n",
    "        self.qed_ratio = 1\n",
    "        self.sa_ratio = 1\n",
    "        self.reward_step_total = 0.5\n",
    "        \n",
    "        # to record timesteps?\n",
    "        self.counter = 0\n",
    "        \n",
    "    def seed(self,seed):\n",
    "        np.random.seed(seed=seed)\n",
    "        random.seed(seed)\n",
    "        \n",
    "    def reset(self):\n",
    "        #reset counter\n",
    "        self.counter = 0\n",
    "        \n",
    "        self.mol = Chem.RWMol()\n",
    "        self._add_atom(0) #starting with carbon \n",
    "        \n",
    "    def step(self, action):\n",
    "        self.mol_old = copy.deepcopy(self.mol)\n",
    "        total_atoms = self.mol.GetNumAtoms()\n",
    "        raise NotImplementedError"
   ]
  },
  {
   "cell_type": "code",
   "execution_count": 23,
   "id": "c2c675b4",
   "metadata": {},
   "outputs": [],
   "source": [
    "env = GraphMDP()"
   ]
  },
  {
   "cell_type": "code",
   "execution_count": null,
   "id": "3be5b033",
   "metadata": {},
   "outputs": [],
   "source": []
  }
 ],
 "metadata": {
  "kernelspec": {
   "display_name": "Python 3 (ipykernel)",
   "language": "python",
   "name": "python3"
  },
  "language_info": {
   "codemirror_mode": {
    "name": "ipython",
    "version": 3
   },
   "file_extension": ".py",
   "mimetype": "text/x-python",
   "name": "python",
   "nbconvert_exporter": "python",
   "pygments_lexer": "ipython3",
   "version": "3.8.15"
  }
 },
 "nbformat": 4,
 "nbformat_minor": 5
}
