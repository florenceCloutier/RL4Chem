{
 "cells": [
  {
   "cell_type": "code",
   "execution_count": 189,
   "id": "6bdc5aac",
   "metadata": {},
   "outputs": [
    {
     "data": {
      "text/plain": [
       "'\\n1) treating group selfies strings as actions?\\n2) if 1) yes, then does it matter if we loose attachment points?\\n'"
      ]
     },
     "execution_count": 189,
     "metadata": {},
     "output_type": "execute_result"
    }
   ],
   "source": [
    "'''\n",
    "1) treating group selfies strings as actions?\n",
    "2) if 1) yes, then does it matter if we loose attachment points?\n",
    "'''"
   ]
  },
  {
   "cell_type": "code",
   "execution_count": 190,
   "id": "b5136729",
   "metadata": {},
   "outputs": [],
   "source": [
    "import torch\n",
    "import random\n",
    "import numpy as np\n",
    "import selfies as sf\n",
    "import torch_geometric\n",
    "import group_selfies as gs\n",
    "import torch.nn.functional as F\n",
    "\n",
    "from rdkit import Chem\n",
    "from copy import deepcopy\n",
    "from dockstring import load_target\n",
    "from global_chem import GlobalChem\n",
    "from IPython.display import display\n",
    "from collections import OrderedDict\n",
    "from rdkit.Chem import Descriptors, Draw\n",
    "from pathos.multiprocessing import ProcessingPool as Pool\n",
    "from torch_geometric.utils.convert import to_networkx, from_networkx\n",
    "\n",
    "def grid(mols, molsPerRow=10):\n",
    "    return Draw.MolsToGridImage(mols, molsPerRow=molsPerRow, maxMols=1000, subImgSize=(125, 125), useSVG=True)\n",
    "\n",
    "def format(n, d):\n",
    "    if d['atom'].group_tag is None:\n",
    "        return f'{d[\"atom\"].element}'\n",
    "    else:\n",
    "        group_idx, inner_idx = d['atom'].group_tag\n",
    "        group_name = molG.groups[group_idx].name\n",
    "\n",
    "        inner_element = d['atom'].element\n",
    "        return f'{group_name}_{inner_element}'"
   ]
  },
  {
   "cell_type": "markdown",
   "id": "e406b9ab",
   "metadata": {},
   "source": [
    "# Generating action space of selfie strings corresponding to \"common r groups\""
   ]
  },
  {
   "cell_type": "code",
   "execution_count": 191,
   "id": "c623ab6b",
   "metadata": {},
   "outputs": [
    {
     "name": "stdout",
     "output_type": "stream",
     "text": [
      "Encoding... Done encoding\n"
     ]
    }
   ],
   "source": [
    "grammar = gs.group_grammar.common_r_group_replacements_grammar()\n",
    "\n",
    "smiles_strs = []\n",
    "selfies_strs = []\n",
    "group_selfies_strs = []\n",
    "tokens = []\n",
    "names = []\n",
    "\n",
    "print('Encoding... ', end='')\n",
    "for name, group in grammar.vocab.items():\n",
    "    smiles = Chem.MolToSmiles(group.mol_without_attachment_points())\n",
    "    selfies = sf.encoder(smiles)\n",
    "    token = f\"[:0{group.name}]\"\n",
    "    name = group.name\n",
    "\n",
    "    smiles_strs.append(smiles)\n",
    "    selfies_strs.append(selfies)\n",
    "    group_selfies_strs.append(grammar.full_encoder(Chem.MolFromSmiles(smiles)))\n",
    "    '''\n",
    "    group_selfies_strs.append(grammar.full_encoder(group.mol))\n",
    "    This line throws an error when there is for many groups inside the grammar!\n",
    "    '''\n",
    "    \n",
    "    tokens.append(token)\n",
    "    names.append(name)\n",
    "print('Done encoding')\n",
    "\n",
    "action_space = group_selfies_strs"
   ]
  },
  {
   "cell_type": "markdown",
   "id": "9389c936",
   "metadata": {},
   "source": [
    "# Generating valid molecules by randomly choosing selfie strings from the action space"
   ]
  },
  {
   "cell_type": "code",
   "execution_count": 244,
   "id": "3cf5dd40",
   "metadata": {},
   "outputs": [
    {
     "name": "stderr",
     "output_type": "stream",
     "text": [
      "[11:43:56] Incomplete atom labelling, cannot make bond\n",
      "[11:43:56] Incomplete atom labelling, cannot make bond\n",
      "[11:43:56] Incomplete atom labelling, cannot make bond\n"
     ]
    },
    {
     "data": {
      "image/png": "[encoded data removed]",
      "text/plain": [
       "<rdkit.Chem.rdchem.RWMol at 0x7f2be8ffbb30>"
      ]
     },
     "metadata": {},
     "output_type": "display_data"
    },
    {
     "name": "stdout",
     "output_type": "stream",
     "text": [
      "[O][=S][=Branch][=O][pop][Branch][:3butane][Ring2][N][Branch][CH1][pop][CH1][CH1][N][Ring1][#Branch][pop][pop][CH1]\n"
     ]
    }
   ],
   "source": [
    "joint_group_selfies=''.join(random.sample(action_space, 9))\n",
    "rnd_mol = grammar.decoder(joint_group_selfies)\n",
    "rnd_smiles = Chem.MolToSmiles(rnd_mol)\n",
    "display(rnd_mol)\n",
    "\n",
    "print(grammar.full_encoder(rnd_mol))"
   ]
  },
  {
   "cell_type": "code",
   "execution_count": 239,
   "id": "92715159",
   "metadata": {},
   "outputs": [
    {
     "name": "stderr",
     "output_type": "stream",
     "text": [
      "[11:43:45] Incomplete atom labelling, cannot make bond\n"
     ]
    },
    {
     "data": {
      "image/png": "[encoded data removed]",
      "text/plain": [
       "<rdkit.Chem.rdchem.RWMol at 0x7f2be8ffbe50>"
      ]
     },
     "metadata": {},
     "output_type": "display_data"
    },
    {
     "name": "stdout",
     "output_type": "stream",
     "text": [
      "[CH1][O][C][=C][Branch][C][Branch][O][CH1][pop][=CH1][CH1][=CH1][Ring1][O][pop][:0methyl formate][Ring1][O][S][C][pop]\n"
     ]
    }
   ],
   "source": [
    "def split_selfies(selfies: str):\n",
    "\n",
    "    left_idx = selfies.find(\"[\")\n",
    "\n",
    "    while 0 <= left_idx < len(selfies):\n",
    "        right_idx = selfies.find(\"]\", left_idx + 1)\n",
    "        if right_idx == -1:\n",
    "            raise ValueError(\"malformed SELFIES string, hanging '[' bracket\")\n",
    "\n",
    "        next_symbol = selfies[left_idx: right_idx + 1]\n",
    "        yield next_symbol\n",
    "\n",
    "        left_idx = right_idx + 1\n",
    "        if selfies[left_idx: left_idx + 1] == \".\":\n",
    "            yield \".\"\n",
    "            left_idx += 1\n",
    "\n",
    "split_gselfis = [list(split_selfies(selfi)) for selfi in action_space]\n",
    "\n",
    "# # count the number of tokens in each selfi\n",
    "gselfi_lengths = [len(selfi) for selfi in split_gselfis]\n",
    "\n",
    "# # combine all tokens from split_selfis into one list\n",
    "gselfi_alphabet = [token for selfi in split_gselfis for token in selfi]\n",
    "\n",
    "joint_group_selfies=''.join(random.sample(gselfi_alphabet, 9))\n",
    "rnd_mol = grammar.decoder(joint_group_selfies)\n",
    "rnd_smiles = Chem.MolToSmiles(rnd_mol)\n",
    "display(rnd_mol)\n",
    "\n",
    "print(grammar.full_encoder(rnd_mol))"
   ]
  },
  {
   "cell_type": "code",
   "execution_count": null,
   "id": "89878a28",
   "metadata": {},
   "outputs": [],
   "source": []
  }
 ],
 "metadata": {
  "kernelspec": {
   "display_name": "Python 3 (ipykernel)",
   "language": "python",
   "name": "python3"
  },
  "language_info": {
   "codemirror_mode": {
    "name": "ipython",
    "version": 3
   },
   "file_extension": ".py",
   "mimetype": "text/x-python",
   "name": "python",
   "nbconvert_exporter": "python",
   "pygments_lexer": "ipython3",
   "version": "3.8.15"
  }
 },
 "nbformat": 4,
 "nbformat_minor": 5
}
