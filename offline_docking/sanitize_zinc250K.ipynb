{
 "cells": [
  {
   "cell_type": "code",
   "execution_count": 3,
   "id": "0adfd60f",
   "metadata": {},
   "outputs": [],
   "source": [
    "import csv\n",
    "import copy\n",
    "import numpy as np\n",
    "import pandas as pd\n",
    "\n",
    "from IPython.display import display\n",
    "\n",
    "import selfies as sf\n",
    "from rdkit import Chem\n",
    "from rdkit.Chem import Descriptors\n",
    "from rdkit.Chem import MolFromSmiles as smi2mol\n",
    "from rdkit.Chem import MolToSmiles as mol2smi"
   ]
  },
  {
   "cell_type": "code",
   "execution_count": 4,
   "id": "870b759f",
   "metadata": {},
   "outputs": [],
   "source": [
    "zinc_df = pd.read_csv('raw_data/250k_rndm_zinc_drugs_clean_3.csv')\n",
    "zinc_df.replace('\\n','', regex=True, inplace=True)"
   ]
  },
  {
   "cell_type": "code",
   "execution_count": 32,
   "id": "3762c36a",
   "metadata": {},
   "outputs": [],
   "source": [
    "zinc_smiles = list(zinc_df.smiles)\n",
    "zinc_canon_smiles = []"
   ]
  },
  {
   "cell_type": "code",
   "execution_count": 33,
   "id": "b49f1638",
   "metadata": {},
   "outputs": [
    {
     "name": "stdout",
     "output_type": "stream",
     "text": [
      "0\n",
      "10000\n",
      "20000\n",
      "30000\n",
      "40000\n",
      "50000\n",
      "60000\n",
      "70000\n",
      "80000\n",
      "90000\n",
      "100000\n",
      "110000\n",
      "120000\n",
      "130000\n",
      "140000\n",
      "150000\n",
      "160000\n",
      "170000\n",
      "180000\n",
      "190000\n",
      "200000\n",
      "210000\n",
      "220000\n",
      "230000\n",
      "240000\n"
     ]
    }
   ],
   "source": [
    "for i, smiles in enumerate(zinc_df.smiles):\n",
    "    \n",
    "    mol = smi2mol(smiles, sanitize=True)\n",
    "    smiles_canon = mol2smi(mol, isomericSmiles=False, canonical=True)\n",
    "    \n",
    "    zinc_canon_smiles.append(smiles_canon)\n",
    "    \n",
    "    if i%10000==0:\n",
    "        print(i)"
   ]
  },
  {
   "cell_type": "code",
   "execution_count": 34,
   "id": "399d315d",
   "metadata": {},
   "outputs": [],
   "source": [
    "zinc_df.insert(0, 'canon_smiles', zinc_canon_smiles, allow_duplicates = False)"
   ]
  },
  {
   "cell_type": "code",
   "execution_count": 35,
   "id": "f52fb398",
   "metadata": {},
   "outputs": [
    {
     "name": "stdout",
     "output_type": "stream",
     "text": [
      "0\n",
      "10000\n",
      "20000\n",
      "30000\n",
      "40000\n",
      "50000\n",
      "60000\n",
      "70000\n",
      "80000\n",
      "90000\n",
      "100000\n",
      "110000\n",
      "120000\n",
      "130000\n",
      "140000\n",
      "150000\n",
      "160000\n",
      "170000\n",
      "180000\n",
      "190000\n",
      "200000\n",
      "210000\n",
      "220000\n",
      "230000\n",
      "240000\n"
     ]
    }
   ],
   "source": [
    "zinc_selfies = []\n",
    "for i, c_smiles in enumerate(zinc_df.canon_smiles):\n",
    "    \n",
    "    zinc_selfies.append(sf.encoder(c_smiles))\n",
    "    \n",
    "    if i%10000==0:\n",
    "        print(i)"
   ]
  },
  {
   "cell_type": "code",
   "execution_count": 39,
   "id": "9d0e5af4",
   "metadata": {},
   "outputs": [],
   "source": [
    "zinc_df.insert(0, 'selfies_' + sf.__version__, zinc_selfies, allow_duplicates=False)"
   ]
  },
  {
   "cell_type": "code",
   "execution_count": 17,
   "id": "25f6c53e",
   "metadata": {},
   "outputs": [],
   "source": [
    "zinc_df.to_csv('filtered_data/zinc250_selfies_' + sf.__version__ + '_.csv', index=False)"
   ]
  },
  {
   "cell_type": "code",
   "execution_count": null,
   "id": "0d36125d",
   "metadata": {},
   "outputs": [],
   "source": []
  }
 ],
 "metadata": {
  "kernelspec": {
   "display_name": "Python 3 (ipykernel)",
   "language": "python",
   "name": "python3"
  },
  "language_info": {
   "codemirror_mode": {
    "name": "ipython",
    "version": 3
   },
   "file_extension": ".py",
   "mimetype": "text/x-python",
   "name": "python",
   "nbconvert_exporter": "python",
   "pygments_lexer": "ipython3",
   "version": "3.11.0"
  }
 },
 "nbformat": 4,
 "nbformat_minor": 5
}
